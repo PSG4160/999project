{
 "cells": [
  {
   "cell_type": "markdown",
   "id": "958ee8f9-e1f7-4d02-bec1-284e9dd89136",
   "metadata": {},
   "source": [
    "## 데이터 수집 & 전처리"
   ]
  },
  {
   "cell_type": "code",
   "execution_count": 4,
   "id": "9e13fc47-9db7-4d01-955d-d5138342434e",
   "metadata": {},
   "outputs": [],
   "source": [
    "#API 호출 및 데이터 품질 검사\n",
    "import re\n",
    "import os\n",
    "import requests\n",
    "import json\n",
    "import pandas as pd\n",
    "import pickle\n",
    "from dotenv import load_dotenv\n",
    "from langchain_openai import OpenAIEmbeddings\n",
    "from langchain.document_loaders import PyPDFLoader\n",
    "from langchain.text_splitter import RecursiveCharacterTextSplitter\n",
    "from langchain.storage import LocalFileStore\n",
    "from langchain.embeddings import CacheBackedEmbeddings\n",
    "import faiss\n",
    "from langchain_community.vectorstores import FAISS\n",
    "from langchain_openai import ChatOpenAI\n",
    "from langchain_core.prompts import ChatPromptTemplate\n",
    "from langchain_core.messages import SystemMessage, HumanMessage, AIMessage, FunctionMessage\n",
    "from langchain.memory import ConversationBufferMemory\n",
    "from langchain_core.runnables import Runnable\n",
    "from math import radians, sin, cos, sqrt, atan2"
   ]
  },
  {
   "cell_type": "markdown",
   "id": "79e578c7-976e-46e8-bcc6-1c0d0f621392",
   "metadata": {},
   "source": [
    "## API로 데이터 불러와서 활용 (가능하면)\n",
    "- https://www.safetydata.go.kr/disaster-data/view?dataSn=3287#none 에서 파일 불러오고, 활용가능하다 판단되면 활용해보기.\n",
    "- 지금은 PDF 파일만 수집 활용중"
   ]
  },
  {
   "cell_type": "code",
   "execution_count": 5,
   "id": "78954036-a50d-4ebe-a6df-3f8fae4e37c9",
   "metadata": {},
   "outputs": [
    {
     "name": "stdout",
     "output_type": "stream",
     "text": [
      "전처리된 데이터 126개를 로드했습니다.\n"
     ]
    }
   ],
   "source": [
    "# .env 파일 로드\n",
    "load_dotenv()\n",
    "\n",
    "# 환경 변수에서 API 키 불러오기\n",
    "api_key = os.getenv(\"OPENAI_API_KEY\")\n",
    "\n",
    "# 저장할 파일 경로 설정\n",
    "preprocessed_data_path = 'SourceCode/preprocessed_docs.pkl'\n",
    "\n",
    "# 저장된 전처리 데이터가 있는지 확인\n",
    "if os.path.exists(preprocessed_data_path):\n",
    "    # 전처리된 데이터 로드\n",
    "    with open(preprocessed_data_path, 'rb') as f:\n",
    "        all_docs = pickle.load(f)\n",
    "    print(f\"전처리된 데이터 {len(all_docs)}개를 로드했습니다.\")\n",
    "else:\n",
    "    # PDF 파일들이 저장된 디렉토리\n",
    "    directory_path = \"SourceCode/RAG/\"\n",
    "    \n",
    "    # PDF 파일 로드\n",
    "    all_docs = []  # 모든 문서를 저장할 리스트\n",
    "    \n",
    "    # 디렉토리에서 모든 파일을 순회\n",
    "    for file_name in os.listdir(directory_path):\n",
    "        if file_name.endswith(\".pdf\"):  # PDF 파일만 처리\n",
    "            file_path = os.path.join(directory_path, file_name)  # 파일 경로 생성\n",
    "            loader = PyPDFLoader(file_path=file_path)  # PyPDFLoader 생성\n",
    "            docs = loader.load()  # 문서 로드\n",
    "            all_docs.extend(docs)  # 전체 문서 리스트에 추가\n",
    "    \n",
    "    # 전처리 함수 정의\n",
    "    def preprocess_text(text):\n",
    "        '''전처리 함수'''\n",
    "        # 처음에 숫자가 나오면 제거\n",
    "        text = re.sub(r'^\\s*\\d+\\s*', '', text)   \n",
    "        \n",
    "        # \"비상시 국민행동요령 알아야 안전하다\"로 시작하면 제거\n",
    "        if text.startswith('비상시 국민행동요령 알아야 안전하다'):\n",
    "            text = text[len('비상시 국민행동요령 알아야 안전하다'):].lstrip()\n",
    "        \n",
    "        # 특정 패턴이 시작 부분에 있으면 제거 (패턴 1)\n",
    "        pattern1 = r'^(\\s*만화로 보는 비상시\\s*국민행동요령\\s*화생방 피해대비\\s*행동요령\\s*인명시설 피해시\\s*행동요령\\s*비상대비물자\\s*준비 및 사용요령\\s*비상사태시\\s*행동요령\\s*)'\n",
    "        text = re.sub(pattern1, '', text)\n",
    "        \n",
    "        # 특정 패턴이 시작 부분에 있으면 제거 (패턴 2)\n",
    "        pattern2 = r'^(\\s*온 가족이 함께\\s*안전하게\\s*화생방 피해대비\\s*행동요령\\s*인명시설 피해시\\s*행동요령\\s*비상대비물자\\s*준비 및 사용요령\\s*비상사태시\\s*행동요령\\s*화생방경보 발령시\\s*국민행동요령\\s*핵 경보 발령시\\s*국민행동요령\\s*)'\n",
    "        text = re.sub(pattern2, '', text)\n",
    "        \n",
    "        # 불필요한 줄 바꿈과 공백 정리\n",
    "        text = text.replace('\\n', ' ').replace('\\r', ' ')\n",
    "        text = re.sub(r'\\s+', ' ', text)\n",
    "    \n",
    "        # 한글, ., -, %, /, ()를 제외한 모든 특수문자 제거\n",
    "        text = re.sub(r'[^a-zA-Z0-9\\s%.\\-/()\\uAC00-\\uD7A3]+', '', text)\n",
    "    \n",
    "        # 문자열 양쪽 공백 제거\n",
    "        text = text.strip()\n",
    "        \n",
    "        return text\n",
    "    \n",
    "    # 각 문서의 page_content 전처리\n",
    "    for doc in all_docs:\n",
    "        doc.page_content = preprocess_text(doc.page_content)\n",
    "    \n",
    "    # 전처리된 데이터 저장\n",
    "    with open(preprocessed_data_path, 'wb') as f:\n",
    "        pickle.dump(all_docs, f)\n",
    "    print(f\"전처리된 데이터 {len(all_docs)}개를 저장했습니다.\")"
   ]
  },
  {
   "cell_type": "code",
   "execution_count": 6,
   "id": "e0418282-2ba2-4b40-9f90-889a51c2cd19",
   "metadata": {
    "scrolled": true
   },
   "outputs": [
    {
     "data": {
      "text/plain": [
       "'\\n# 청크 확인 디버그 코드\\nfor idx, chunk in enumerate(splits):\\n    print(f\"Chunk {idx + 1}:\")\\n    print(\"-\" * 20)\\n    print(chunk.page_content)\\n    print(\"\\n\" + \"=\" * 40 + \"\\n\")\\n'"
      ]
     },
     "execution_count": 6,
     "metadata": {},
     "output_type": "execute_result"
    }
   ],
   "source": [
    "recursive_text_splitter = RecursiveCharacterTextSplitter(\n",
    "    chunk_size=1000,\n",
    "    chunk_overlap=200,\n",
    "    length_function=len,\n",
    "    is_separator_regex=False,\n",
    ")\n",
    "\n",
    "splits = recursive_text_splitter.split_documents(all_docs)\n",
    "\n",
    "'''\n",
    "# 청크 확인 디버그 코드\n",
    "for idx, chunk in enumerate(splits):\n",
    "    print(f\"Chunk {idx + 1}:\")\n",
    "    print(\"-\" * 20)\n",
    "    print(chunk.page_content)\n",
    "    print(\"\\n\" + \"=\" * 40 + \"\\n\")\n",
    "'''"
   ]
  },
  {
   "cell_type": "markdown",
   "id": "28dd8346-9eac-470c-8bc1-a65e86755628",
   "metadata": {},
   "source": [
    "## 임베딩"
   ]
  },
  {
   "cell_type": "code",
   "execution_count": 7,
   "id": "a5ef48f4-a758-45a7-9f69-9dd6cf0bf33f",
   "metadata": {},
   "outputs": [
    {
     "data": {
      "text/plain": [
       "'\\n# 4. 예시 텍스트\\nexample_texts = [\\n    \"OpenAI의 임베딩 모델은 강력한 자연어 처리를 제공합니다.\",\\n    \"로컬 캐시는 효율적인 데이터 처리를 가능하게 합니다.\",\\n    \"임베딩 모델을 활용하여 고품질의 애플리케이션을 개발할 수 있습니다.\"\\n]\\n\\n# 5. 임베딩 생성 및 저장된 결과 출력\\nfor text in example_texts:\\n    embedding = cached_embedder.embed_query(text)  # 임베딩 생성\\n    print(f\"텍스트: {text}\")\\n    print(f\"임베딩 (첫 10개 값): {embedding[:10]}\")  # 임베딩 값의 일부를 출력\\n\\nprint(\"임베딩 생성 완료 및 로컬 캐시에 저장되었습니다.\")\\n'"
      ]
     },
     "execution_count": 7,
     "metadata": {},
     "output_type": "execute_result"
    }
   ],
   "source": [
    "# 1. OpenAI 임베딩 모델 초기화\n",
    "embeddings = OpenAIEmbeddings(model=\"text-embedding-3-small\")\n",
    "\n",
    "# 2. 로컬 파일 저장소 설정 (사용자 환경에 맞는 경로로 설정)\n",
    "store = LocalFileStore(\"F:/STUDY/sparta/999/박성규/emb\")  # 로컬 경로 설정 각자 작성 해야합닏.\n",
    "\n",
    "# 3. 캐시를 지원하는 임베딩 생성\n",
    "cached_embedder = CacheBackedEmbeddings.from_bytes_store(\n",
    "    underlying_embeddings=embeddings,\n",
    "    document_embedding_cache=store,\n",
    "    namespace=embeddings.model,  # 모델 이름을 네임스페이스로 설정\n",
    ")\n",
    "\n",
    "\n",
    "'''\n",
    "# 4. 예시 텍스트\n",
    "example_texts = [\n",
    "    \"OpenAI의 임베딩 모델은 강력한 자연어 처리를 제공합니다.\",\n",
    "    \"로컬 캐시는 효율적인 데이터 처리를 가능하게 합니다.\",\n",
    "    \"임베딩 모델을 활용하여 고품질의 애플리케이션을 개발할 수 있습니다.\"\n",
    "]\n",
    "\n",
    "# 5. 임베딩 생성 및 저장된 결과 출력\n",
    "for text in example_texts:\n",
    "    embedding = cached_embedder.embed_query(text)  # 임베딩 생성\n",
    "    print(f\"텍스트: {text}\")\n",
    "    print(f\"임베딩 (첫 10개 값): {embedding[:10]}\")  # 임베딩 값의 일부를 출력\n",
    "\n",
    "print(\"임베딩 생성 완료 및 로컬 캐시에 저장되었습니다.\")\n",
    "'''"
   ]
  },
  {
   "cell_type": "code",
   "execution_count": 8,
   "id": "e94a4f3e-fadf-4eb4-aa6d-949bdd2a381e",
   "metadata": {},
   "outputs": [],
   "source": [
    "vectorstore = FAISS.from_documents(documents=splits, embedding=cached_embedder)"
   ]
  },
  {
   "cell_type": "code",
   "execution_count": 9,
   "id": "b74ee25c-ce20-43a3-acf4-d6e6c2a6d5ea",
   "metadata": {},
   "outputs": [],
   "source": [
    "retriever = vectorstore.as_retriever(search_type=\"similarity\", search_kwargs={\"k\": 4}) \n",
    "\n",
    "# 테스트 하면서 수정할 예정"
   ]
  },
  {
   "cell_type": "markdown",
   "id": "dc1def45-d990-42d7-88f4-0c2b814bf33e",
   "metadata": {},
   "source": [
    "## Fuctiong calling 함수 정의"
   ]
  },
  {
   "cell_type": "code",
   "execution_count": 10,
   "id": "30627a52-2d65-441b-9b64-b673582ec3db",
   "metadata": {},
   "outputs": [],
   "source": [
    "# 대피소 정보 불러오기\n",
    "with open(\"SourceCode/shelters.json\", \"r\", encoding=\"utf-8\") as f:\n",
    "    shelters = json.load(f)"
   ]
  },
  {
   "cell_type": "code",
   "execution_count": 11,
   "id": "a1050226-d890-44fa-b052-d4a143ded48b",
   "metadata": {},
   "outputs": [],
   "source": [
    "# shelters 리스트를 데이터프레임으로 변환\n",
    "df = pd.DataFrame(shelters)\n",
    "df = df[df['SHNT_PSBLTY_NOPE'] != '0']  # 대피가능인원수 0인 곳을 제외"
   ]
  },
  {
   "cell_type": "code",
   "execution_count": 12,
   "id": "1aca3a0a-95c9-4177-a80e-eba5102c1d14",
   "metadata": {},
   "outputs": [
    {
     "name": "stdout",
     "output_type": "stream",
     "text": [
      "  GRND_UDGD_SE ORTM_UTLZ_TYPE   SGG_CD     FCLT_CD    FCLT_SE_CD  \\\n",
      "0            1            주차장  3910000  S202400002  3              \n",
      "1            1            주차장  3910000  S202400001  3              \n",
      "2            1            주차장  4020000  S202400001  3              \n",
      "3            1          지하주차장  3650000  S201700010  3              \n",
      "4            1          지하주차장  3650000  S201700011  3              \n",
      "\n",
      "     ROAD_NM_CD  LOT_MIN SHNT_PSBLTY_NOPE  FCLT_SCL  LOT_SEC  ... LAT_PROVIN  \\\n",
      "0  3352297             6            34761     28678       24  ...         37   \n",
      "1  3352295             6            37152     30651       27  ...         37   \n",
      "2  3182030            56            39997     32998       42  ...         37   \n",
      "3  3165028            23             6577      5426       55  ...         36   \n",
      "4  3165028            23             5126      4229       56  ...         36   \n",
      "\n",
      "  LAT_MIN MNG_INST_TELNO                     FCLT_NM  FCLT_DSGN_DAY  \\\n",
      "0       1  031-8024-4900  평택지제역동문굿모닝힐맘시티4단지 지하주차장 1층       20240126   \n",
      "1       1  031-8024-4900  평택지제역동문굿모닝힐맘시티2단지 지하주차장 1층       20240126   \n",
      "2      22           None             힐스테이트 금정역 지하주차장       20240131   \n",
      "3      19   042-606-6036                유등마을아파트 104동       20170628   \n",
      "4      19   042-606-6036                유등마을아파트 106동       20170628   \n",
      "\n",
      "   MNG_INST_NM                    FCLT_ADDR_LOTNO SCL_UNIT LOT_PROVIN  \\\n",
      "0     경기도 평택시청  경기도 평택시 칠원동 595 평택지제역동문굿모닝힐맘시티4단지        ㎡        127   \n",
      "1     경기도 평택시청  경기도 평택시 칠원동 559 평택지제역동문굿모닝힐맘시티2단지        ㎡        127   \n",
      "2     경기도 군포시청          경기도 군포시 금정동 916 힐스테이트 금정역        ㎡        126   \n",
      "3    대전광역시 중구청              대전광역시 중구 태평동 253번지 1호        ㎡        127   \n",
      "4    대전광역시 중구청              대전광역시 중구 태평동 253번지 1호        ㎡        127   \n",
      "\n",
      "         EMD_CD  \n",
      "0  3910077       \n",
      "1  3910077       \n",
      "2  4020038       \n",
      "3  3650041       \n",
      "4  3650041       \n",
      "\n",
      "[5 rows x 25 columns]\n"
     ]
    }
   ],
   "source": [
    "print(df.head())"
   ]
  },
  {
   "cell_type": "code",
   "execution_count": 13,
   "id": "f7073bd2-7b63-4276-8619-44f2fc16ad95",
   "metadata": {},
   "outputs": [
    {
     "name": "stdout",
     "output_type": "stream",
     "text": [
      "                          시설명                                        주소  \\\n",
      "0  평택지제역동문굿모닝힐맘시티4단지 지하주차장 1층  경기도 평택시 신촌5로 56 (칠원동, 평택지제역동문굿모닝힐맘시티4단지)   \n",
      "1  평택지제역동문굿모닝힐맘시티2단지 지하주차장 1층  경기도 평택시 신촌3로 12 (칠원동, 평택지제역동문굿모닝힐맘시티2단지)   \n",
      "2             힐스테이트 금정역 지하주차장         경기도 군포시 엘에스로 143 (금정동, 힐스테이트 금정역)   \n",
      "3                유등마을아파트 104동           대전광역시 중구 수침로 138 (태평동, 유등마을아파트)   \n",
      "4                유등마을아파트 106동           대전광역시 중구 수침로 138 (태평동, 유등마을아파트)   \n",
      "\n",
      "          위도          경도  \n",
      "0  37.025278  127.106667  \n",
      "1  37.026389  127.107500  \n",
      "2  37.373333  126.945000  \n",
      "3  36.332222  127.398611  \n",
      "4  36.331667  127.398889  \n"
     ]
    }
   ],
   "source": [
    "# DMS를 소수점 좌표로 변환하는 함수 (경도 위도 각각 숫자 합치기)\n",
    "def dms_to_dd(degrees, minutes, seconds):\n",
    "    return degrees + minutes / 60 + seconds / 3600\n",
    "\n",
    "# 위도 변환 (LAT_PROVIN, LAT_MIN, LAT_SEC를 사용)\n",
    "df['위도'] = df.apply(lambda row: dms_to_dd(\n",
    "    float(row['LAT_PROVIN']), \n",
    "    float(row['LAT_MIN']), \n",
    "    float(row['LAT_SEC'])\n",
    "), axis=1)\n",
    "\n",
    "# 경도 변환 (LOT_PROVIN, LOT_MIN, LOT_SEC를 사용)\n",
    "df['경도'] = df.apply(lambda row: dms_to_dd(\n",
    "    float(row['LOT_PROVIN']), \n",
    "    float(row['LOT_MIN']), \n",
    "    float(row['LOT_SEC'])\n",
    "), axis=1)\n",
    "\n",
    "# 주소 컬럼 설정 (도로명 주소 사용)\n",
    "df['주소'] = df['FCLT_ADDR_RONA']\n",
    "# 장소 컬럼 설정\n",
    "df['시설명'] = df['FCLT_NM']\n",
    "\n",
    "# 필요한 컬럼만 선택 추가가 가능하다. (대피소 정보 불러오고 추가 정보가 필요하다고 판단되면 추가하면 됩니다.) 답변 테스트 할때, 필요하다고 판단되면\n",
    "df_result = df[['시설명','주소', '위도', '경도']]\n",
    "\n",
    "print(df_result.head())"
   ]
  },
  {
   "cell_type": "code",
   "execution_count": 22,
   "id": "24c88cc2-e5f2-48e3-b046-3400a8e40f73",
   "metadata": {},
   "outputs": [],
   "source": [
    "def haversine_distance(lat1, lon1, lat2, lon2):\n",
    "    \"\"\"\n",
    "    위도와 경도를 받아 두 지점 사이의 거리를 킬로미터 단위로 계산하는 함수\n",
    "    \"\"\"\n",
    "    # 위도와 경도를 라디안으로 변환\n",
    "    lat1_rad, lon1_rad = radians(lat1), radians(lon1)\n",
    "    lat2_rad, lon2_rad = radians(lat2), radians(lon2)\n",
    "\n",
    "    # 위도와 경도의 차이 계산\n",
    "    dlat = lat2_rad - lat1_rad\n",
    "    dlon = lon2_rad - lon1_rad\n",
    "\n",
    "    # Haversine 공식 적용\n",
    "    a = sin(dlat / 2)**2 + cos(lat1_rad) * cos(lat2_rad) * sin(dlon / 2)**2\n",
    "    c = 2 * atan2(sqrt(a), sqrt(1 - a))\n",
    "    R = 6371  # 지구 반지름 (킬로미터 단위)\n",
    "    distance = R * c\n",
    "    return distance"
   ]
  },
  {
   "cell_type": "markdown",
   "id": "eaf39559-f554-48c0-9228-9284dca95a3b",
   "metadata": {},
   "source": [
    "## 카카오맵 API 호출"
   ]
  },
  {
   "cell_type": "code",
   "execution_count": 23,
   "id": "29554a53-030c-4695-82d6-de5b8cf2efa1",
   "metadata": {},
   "outputs": [
    {
     "name": "stdout",
     "output_type": "stream",
     "text": [
      "경도: 128.628393775388, 위도: 35.8793239931795\n"
     ]
    }
   ],
   "source": [
    "''' 키워드 검색시 주소를 호출하지 못함 -> 키워드 검색 로직 추가 '''\n",
    "\n",
    "load_dotenv()\n",
    "kakaoapikey = os.getenv(\"REST_API_KEY\") # 카카오 API 호출\n",
    "def get_coordinates(query):\n",
    "    \"\"\"\n",
    "    검색 질의어(query)를 기반으로 주소 검색 API와 장소 검색 API를 순차적으로 호출하여 경도와 위도를 반환.\n",
    "\n",
    "    Args:\n",
    "        query (str): 검색할 주소 또는 장소.\n",
    "        kakaoapikey (str): 카카오맵 REST API 키.\n",
    "\n",
    "    Returns:\n",
    "        tuple: (longitude, latitude) - 경도(x), 위도(y)\n",
    "    \"\"\"\n",
    "    # 1. 주소 검색 API 호출\n",
    "    address_url = \"https://dapi.kakao.com/v2/local/search/address.json\"\n",
    "    headers = {\"Authorization\": f\"KakaoAK {kakaoapikey}\"}\n",
    "    params = {\"query\": query, \"size\": 1}\n",
    "\n",
    "    address_response = requests.get(address_url, headers=headers, params=params)\n",
    "    if address_response.status_code == 200:\n",
    "        data = address_response.json()\n",
    "        documents = data.get(\"documents\", [])\n",
    "        if documents:\n",
    "            x = documents[0].get(\"x\")\n",
    "            y = documents[0].get(\"y\")\n",
    "            return (x, y)\n",
    "    \n",
    "    # 2. 장소 검색 API 호출 (주소 검색 결과가 없을 경우)\n",
    "    keyword_url = \"https://dapi.kakao.com/v2/local/search/keyword.json\"\n",
    "    keyword_response = requests.get(keyword_url, headers=headers, params=params)\n",
    "    if keyword_response.status_code == 200:\n",
    "        data = keyword_response.json()\n",
    "        documents = data.get(\"documents\", [])\n",
    "        if documents:\n",
    "            x = documents[0].get(\"x\")\n",
    "            y = documents[0].get(\"y\")\n",
    "            return (x, y)\n",
    "    \n",
    "    # 결과 없음\n",
    "    print(\"검색 결과가 없습니다.\")\n",
    "    return None\n",
    "\n",
    "\n",
    "# 테스트 실행\n",
    "if __name__ == \"__main__\":\n",
    "    query = \"동대구역\"  # 검색할 장소 또는 주소\n",
    "    coordinates = get_coordinates(query)\n",
    "    if coordinates:\n",
    "        print(f\"경도: {coordinates[0]}, 위도: {coordinates[1]}\")"
   ]
  },
  {
   "cell_type": "code",
   "execution_count": 27,
   "id": "ff523a5a-6aad-4133-a394-9c6e13c2ef0f",
   "metadata": {},
   "outputs": [],
   "source": [
    "def find_nearest_shelters(address: str) -> str:\n",
    "    coordinates = get_coordinates(address)\n",
    "    if coordinates:\n",
    "        user_lon = float(coordinates[0])\n",
    "        user_lat = float(coordinates[1])\n",
    "\n",
    "        def calculate_distance(row):\n",
    "            try:\n",
    "                shelter_lat = float(row['위도'])\n",
    "                shelter_lon = float(row['경도'])\n",
    "                return haversine_distance(user_lat, user_lon, shelter_lat, shelter_lon)\n",
    "            except (ValueError, TypeError):\n",
    "                return None\n",
    "\n",
    "        # 거리 계산 및 데이터프레임 업데이트 (loc 사용)\n",
    "        df_result.loc[:, '거리'] = df_result.apply(calculate_distance, axis=1)\n",
    "\n",
    "        # 유효한 거리 필터링\n",
    "        df_valid = df_result[df_result['거리'].notnull()]\n",
    "\n",
    "        # 거리 기준 정렬 및 상위 3개 선택\n",
    "        df_sorted = df_valid.sort_values(by='거리')\n",
    "        df_top3 = df_sorted.head(3)\n",
    "\n",
    "        # 결과 문자열 생성\n",
    "        result = \"\\n가장 가까운 대피소 정보 (거리순):\"\n",
    "        for idx, row in df_top3.iterrows():\n",
    "            result += f\"\\n\\n[{idx+1}]\"\n",
    "            result += f\"\\n시설명: {row['시설명']}\"\n",
    "            result += f\"\\n주소: {row['주소']}\"\n",
    "            result += f\"\\n현재 위치로부터의 거리: {row['거리']:.2f} km\"\n",
    "\n",
    "            shelter_add = row['주소'].replace(' ', '') \n",
    "            kakao_map_link = f\"https://map.kakao.com/link/search/{shelter_add}\"\n",
    "            result += f\"\\n지도 링크: {kakao_map_link}\\n\"\n",
    "\n",
    "        return result\n",
    "    else:\n",
    "        return \"좌표를 가져올 수 없습니다.\"\n"
   ]
  },
  {
   "cell_type": "code",
   "execution_count": 28,
   "id": "514d0ea9-1ffe-4adb-8562-b46c2d594ecc",
   "metadata": {},
   "outputs": [],
   "source": [
    "# 함수 스키마 정의\n",
    "functions = [\n",
    "    {\n",
    "        \"name\": \"find_nearest_shelters\",\n",
    "        \"description\": \"주어진 주소나 장소명을 기반으로 가장 가까운 대피소 정보를 반환하는 함수.\",\n",
    "        \"parameters\": {\n",
    "            \"type\": \"object\",\n",
    "            \"properties\": {\n",
    "                \"address\": {\n",
    "                    \"type\": \"string\",\n",
    "                    \"description\": \"대피소를 찾고자 하는 주소\"\n",
    "                }\n",
    "            },\n",
    "            \"required\": [\"address\"]\n",
    "        }\n",
    "    }\n",
    "]"
   ]
  },
  {
   "cell_type": "markdown",
   "id": "c8162cfe-281c-4b07-bf46-29eca3a04684",
   "metadata": {},
   "source": [
    "## Streamlit 에서 위치기반 서비스 API를 이용하여, 사용자 위치를 불러와서 대피소 정보를 반환하는 것으로 추가기능 구현 예정임"
   ]
  },
  {
   "cell_type": "code",
   "execution_count": 34,
   "id": "cdc51d9c-7c55-4a07-a415-0cecd136a022",
   "metadata": {
    "scrolled": true
   },
   "outputs": [
    {
     "name": "stdout",
     "output_type": "stream",
     "text": [
      "챗봇: 긴급 상황에 대한 질문이 있거나 도움이 필요하시면 언제든지 말씀해 주세요!\n"
     ]
    },
    {
     "name": "stdin",
     "output_type": "stream",
     "text": [
      "사용자:  서울 시청 근처 대피소 알려주고, 전쟁났을때 어떻게 대처해야하는지 알려주라\n"
     ]
    },
    {
     "name": "stdout",
     "output_type": "stream",
     "text": [
      "챗봇: 전쟁 상황에서의 대처 방법은 다음과 같습니다:\n",
      "\n",
      "1. **정보 수집 및 경고 수신**: 라디오, TV, 인터넷 등을 통해 정부의 공식 발표와 경고를 수신하세요. 경고 사이렌이 울리면 즉시 대피소로 이동합니다.\n",
      "\n",
      "2. **대피소로 이동**: 가까운 대피소로 신속하게 이동합니다. 서울 시청 근처의 대피소로는 덕수궁앞지하보도, 서울특별시청 지하1~4층, 시청광장지하쇼핑센터 등이 있습니다.\n",
      "\n",
      "3. **비상 물품 준비**: 대피소로 이동할 때는 비상 식량, 물, 응급 처치 키트, 손전등, 배터리, 중요한 문서 등을 챙깁니다.\n",
      "\n",
      "4. **안전한 장소에 머무르기**: 대피소에 도착하면, 공공 질서를 유지하고, 안내에 따릅니다. 대피소에서 제공하는 안전 지침을 준수합니다.\n",
      "\n",
      "5. **연락망 유지**: 가족 및 친지와의 연락을 유지하고, 안전을 확인합니다. 휴대폰을 충전하고, 배터리를 절약합니다.\n",
      "\n",
      "6. **정부 지침 준수**: 정부나 군 당국의 지침을 따르고, 불필요한 외출을 삼가합니다. 상황이 안정될 때까지 대피소에 머무릅니다.\n",
      "\n",
      "이러한 지침을 준수하여 안전을 확보하시기 바랍니다.\n"
     ]
    },
    {
     "name": "stdin",
     "output_type": "stream",
     "text": [
      "사용자:  대피소는 왜안알려주노\n"
     ]
    },
    {
     "name": "stdout",
     "output_type": "stream",
     "text": [
      "챗봇: 서울 시청 근처의 대피소 정보는 다음과 같습니다:\n",
      "\n",
      "1. **덕수궁앞지하보도**\n",
      "   - 주소: 서울특별시 중구 세종대로 124 (태평로1가, 프레스센터)\n",
      "   - 현재 위치로부터의 거리: 0.11 km\n",
      "   - [지도 링크](https://map.kakao.com/link/search/서울특별시중구세종대로124(태평로1가,프레스센터))\n",
      "\n",
      "2. **서울특별시청 지하1~4층**\n",
      "   - 주소: 서울특별시 중구 세종대로 110 (태평로1가, 서울시청)\n",
      "   - 현재 위치로부터의 거리: 0.11 km\n",
      "   - [지도 링크](https://map.kakao.com/link/search/서울특별시중구세종대로110(태평로1가,서울시청))\n",
      "\n",
      "3. **시청광장지하쇼핑센터**\n",
      "   - 주소: 서울특별시 중구 을지로 지하 12 (을지로1가, 시청광장지하쇼핑센터)\n",
      "   - 현재 위치로부터의 거리: 0.14 km\n",
      "   - [지도 링크](https://map.kakao.com/link/search/서울특별시중구을지로지하12(을지로1가,시청광장지하쇼핑센터)\n",
      "\n",
      "이 정보를 참고하여 가까운 대피소로 이동하시기 바랍니다.\n"
     ]
    },
    {
     "ename": "KeyboardInterrupt",
     "evalue": "Interrupted by user",
     "output_type": "error",
     "traceback": [
      "\u001b[1;31m---------------------------------------------------------------------------\u001b[0m",
      "\u001b[1;31mKeyboardInterrupt\u001b[0m                         Traceback (most recent call last)",
      "Cell \u001b[1;32mIn[34], line 106\u001b[0m\n\u001b[0;32m    103\u001b[0m         response \u001b[38;5;241m=\u001b[39m chat_chain\u001b[38;5;241m.\u001b[39minvoke(user_input)\n\u001b[0;32m    105\u001b[0m \u001b[38;5;28;01mif\u001b[39;00m \u001b[38;5;18m__name__\u001b[39m \u001b[38;5;241m==\u001b[39m \u001b[38;5;124m\"\u001b[39m\u001b[38;5;124m__main__\u001b[39m\u001b[38;5;124m\"\u001b[39m:\n\u001b[1;32m--> 106\u001b[0m     \u001b[43mmain\u001b[49m\u001b[43m(\u001b[49m\u001b[43m)\u001b[49m\n",
      "Cell \u001b[1;32mIn[34], line 99\u001b[0m, in \u001b[0;36mmain\u001b[1;34m()\u001b[0m\n\u001b[0;32m     96\u001b[0m process_response(response)\n\u001b[0;32m     98\u001b[0m \u001b[38;5;28;01mwhile\u001b[39;00m \u001b[38;5;28;01mTrue\u001b[39;00m:\n\u001b[1;32m---> 99\u001b[0m     user_input \u001b[38;5;241m=\u001b[39m \u001b[43mget_user_input\u001b[49m\u001b[43m(\u001b[49m\u001b[43m)\u001b[49m\n\u001b[0;32m    100\u001b[0m     \u001b[38;5;28;01mif\u001b[39;00m user_input\u001b[38;5;241m.\u001b[39mlower() \u001b[38;5;129;01min\u001b[39;00m [\u001b[38;5;124m\"\u001b[39m\u001b[38;5;124m종료\u001b[39m\u001b[38;5;124m\"\u001b[39m, \u001b[38;5;124m\"\u001b[39m\u001b[38;5;124mexit\u001b[39m\u001b[38;5;124m\"\u001b[39m, \u001b[38;5;124m\"\u001b[39m\u001b[38;5;124mquit\u001b[39m\u001b[38;5;124m\"\u001b[39m]:\n\u001b[0;32m    101\u001b[0m         \u001b[38;5;28mprint\u001b[39m(\u001b[38;5;124m\"\u001b[39m\u001b[38;5;124m대화를 종료합니다.\u001b[39m\u001b[38;5;124m\"\u001b[39m)\n",
      "Cell \u001b[1;32mIn[34], line 34\u001b[0m, in \u001b[0;36mget_user_input\u001b[1;34m()\u001b[0m\n\u001b[0;32m     33\u001b[0m \u001b[38;5;28;01mdef\u001b[39;00m \u001b[38;5;21mget_user_input\u001b[39m():\n\u001b[1;32m---> 34\u001b[0m     \u001b[38;5;28;01mreturn\u001b[39;00m \u001b[38;5;28;43minput\u001b[39;49m\u001b[43m(\u001b[49m\u001b[38;5;124;43m\"\u001b[39;49m\u001b[38;5;124;43m사용자: \u001b[39;49m\u001b[38;5;124;43m\"\u001b[39;49m\u001b[43m)\u001b[49m\n",
      "File \u001b[1;32m~\\anaconda3\\envs\\AI\\lib\\site-packages\\ipykernel\\kernelbase.py:1282\u001b[0m, in \u001b[0;36mKernel.raw_input\u001b[1;34m(self, prompt)\u001b[0m\n\u001b[0;32m   1280\u001b[0m     msg \u001b[38;5;241m=\u001b[39m \u001b[38;5;124m\"\u001b[39m\u001b[38;5;124mraw_input was called, but this frontend does not support input requests.\u001b[39m\u001b[38;5;124m\"\u001b[39m\n\u001b[0;32m   1281\u001b[0m     \u001b[38;5;28;01mraise\u001b[39;00m StdinNotImplementedError(msg)\n\u001b[1;32m-> 1282\u001b[0m \u001b[38;5;28;01mreturn\u001b[39;00m \u001b[38;5;28;43mself\u001b[39;49m\u001b[38;5;241;43m.\u001b[39;49m\u001b[43m_input_request\u001b[49m\u001b[43m(\u001b[49m\n\u001b[0;32m   1283\u001b[0m \u001b[43m    \u001b[49m\u001b[38;5;28;43mstr\u001b[39;49m\u001b[43m(\u001b[49m\u001b[43mprompt\u001b[49m\u001b[43m)\u001b[49m\u001b[43m,\u001b[49m\n\u001b[0;32m   1284\u001b[0m \u001b[43m    \u001b[49m\u001b[38;5;28;43mself\u001b[39;49m\u001b[38;5;241;43m.\u001b[39;49m\u001b[43m_parent_ident\u001b[49m\u001b[43m[\u001b[49m\u001b[38;5;124;43m\"\u001b[39;49m\u001b[38;5;124;43mshell\u001b[39;49m\u001b[38;5;124;43m\"\u001b[39;49m\u001b[43m]\u001b[49m\u001b[43m,\u001b[49m\n\u001b[0;32m   1285\u001b[0m \u001b[43m    \u001b[49m\u001b[38;5;28;43mself\u001b[39;49m\u001b[38;5;241;43m.\u001b[39;49m\u001b[43mget_parent\u001b[49m\u001b[43m(\u001b[49m\u001b[38;5;124;43m\"\u001b[39;49m\u001b[38;5;124;43mshell\u001b[39;49m\u001b[38;5;124;43m\"\u001b[39;49m\u001b[43m)\u001b[49m\u001b[43m,\u001b[49m\n\u001b[0;32m   1286\u001b[0m \u001b[43m    \u001b[49m\u001b[43mpassword\u001b[49m\u001b[38;5;241;43m=\u001b[39;49m\u001b[38;5;28;43;01mFalse\u001b[39;49;00m\u001b[43m,\u001b[49m\n\u001b[0;32m   1287\u001b[0m \u001b[43m\u001b[49m\u001b[43m)\u001b[49m\n",
      "File \u001b[1;32m~\\anaconda3\\envs\\AI\\lib\\site-packages\\ipykernel\\kernelbase.py:1325\u001b[0m, in \u001b[0;36mKernel._input_request\u001b[1;34m(self, prompt, ident, parent, password)\u001b[0m\n\u001b[0;32m   1322\u001b[0m \u001b[38;5;28;01mexcept\u001b[39;00m \u001b[38;5;167;01mKeyboardInterrupt\u001b[39;00m:\n\u001b[0;32m   1323\u001b[0m     \u001b[38;5;66;03m# re-raise KeyboardInterrupt, to truncate traceback\u001b[39;00m\n\u001b[0;32m   1324\u001b[0m     msg \u001b[38;5;241m=\u001b[39m \u001b[38;5;124m\"\u001b[39m\u001b[38;5;124mInterrupted by user\u001b[39m\u001b[38;5;124m\"\u001b[39m\n\u001b[1;32m-> 1325\u001b[0m     \u001b[38;5;28;01mraise\u001b[39;00m \u001b[38;5;167;01mKeyboardInterrupt\u001b[39;00m(msg) \u001b[38;5;28;01mfrom\u001b[39;00m \u001b[38;5;28;01mNone\u001b[39;00m\n\u001b[0;32m   1326\u001b[0m \u001b[38;5;28;01mexcept\u001b[39;00m \u001b[38;5;167;01mException\u001b[39;00m:\n\u001b[0;32m   1327\u001b[0m     \u001b[38;5;28mself\u001b[39m\u001b[38;5;241m.\u001b[39mlog\u001b[38;5;241m.\u001b[39mwarning(\u001b[38;5;124m\"\u001b[39m\u001b[38;5;124mInvalid Message:\u001b[39m\u001b[38;5;124m\"\u001b[39m, exc_info\u001b[38;5;241m=\u001b[39m\u001b[38;5;28;01mTrue\u001b[39;00m)\n",
      "\u001b[1;31mKeyboardInterrupt\u001b[0m: Interrupted by user"
     ]
    }
   ],
   "source": [
    "# 대화 기록을 저장할 메모리 초기화\n",
    "memory = ConversationBufferMemory(return_messages=True)\n",
    "# 모델 정의\n",
    "api_key = os.getenv(\"OPENAI_API_KEY\")\n",
    "model = ChatOpenAI(\n",
    "    model=\"gpt-4o\",\n",
    "    temperature=0.4,\n",
    "    streaming=True,\n",
    "    model_kwargs={\"functions\": functions}\n",
    ")\n",
    "# 비상사태 대처 매뉴얼 전문 챗봇 프롬프트 템플릿 정의\n",
    "chat_template = ChatPromptTemplate.from_messages(\n",
    "    [\n",
    "        (\"system\", (\n",
    "            \"당신은 비상사태 대처 매뉴얼 전문 챗봇입니다. \"\n",
    "            \"재난 상황(지진, 화재, 홍수, 전쟁 등)이 발생했을 때 사용자가 안전하게 대피할 수 있도록 최적의 정보를 제공하는 것이 목표입니다.\\n\\n\"\n",
    "            \"제공된 컨텍스트만 사용해서, 질문에 답변하세요.\"\n",
    "            \"아래의 지침에 따라 응답하세요:\\n\"\n",
    "            \"1. 역할 정의: 사용자에게 신뢰할 수 있는 정보를 제공하고, 필요한 경우 함수 호출을 통해 가장 가까운 대피소를 추천하세요.\\n\"\n",
    "            \"2. 대화 스타일: 간결하고 명확하며 사용자 친화적인 언어를 사용하고, 긴급 상황에 맞는 전문적인 톤을 유지하세요.\\n\"\n",
    "            \"3. 긴급 연락처: 추가적인 도움이 필요할 경우 즉시 긴급 연락처(예: 119, 112)를 안내하세요.\\n\"\n",
    "            \"4. 정보의 정확성과 최신성: 최신 데이터를 결합해 응답하세요. 데이터 부족 시 안전한 방향으로 안내하고 추가 도움을 요청하도록 권장하세요.\\n\"\n",
    "            \"5. 함수 호출 지침: 대피소 검색이나 위치 관련 질문에 적절한 함수를 호출하여 데이터를 검색하세요.\\n\"\n",
    "            \"6. 다양한 사용자 고려: 복잡한 용어 대신 쉬운 표현을 사용하세요.\\n\"\n",
    "            \"7. 추가 지침: 필요한 경우 질문을 되묻고, 제공 정보가 명확한지 점검하세요.\"\n",
    "        )),\n",
    "        (\"human\", \"안녕하세요!\"),\n",
    "        (\"ai\", \"안녕하세요! 저는 비상사태에서 안전한 대처를 도와드리는 전문 AI 챗봇입니다. 무엇을 도와드릴까요?\"),\n",
    "        (\"human\", \"{user_input}\"),\n",
    "    ]\n",
    ")\n",
    "\n",
    "def get_user_input():\n",
    "    return input(\"사용자: \")\n",
    "\n",
    "def handle_function_call(response):\n",
    "    function_call = response.additional_kwargs.get(\"function_call\")\n",
    "    if function_call:\n",
    "        function_name = function_call.get(\"name\")\n",
    "        function_args = function_call.get(\"arguments\")\n",
    "\n",
    "        # arguments가 문자열인지 확인하고, 그렇지 않으면 그대로 사용\n",
    "        if isinstance(function_args, str):\n",
    "            function_args = json.loads(function_args)\n",
    "\n",
    "        if function_name == \"find_nearest_shelters\":\n",
    "            function_result = find_nearest_shelters(**function_args)\n",
    "            function_message = FunctionMessage(\n",
    "                name=function_name,\n",
    "                content=function_result\n",
    "            )\n",
    "            # 대화 기록에 함수 메시지 추가\n",
    "            memory.save_context({\"input\": function_message.content}, {\"output\": function_result})\n",
    "            # 모델에 함수 결과 전달하여 최종 응답 생성\n",
    "            final_response = model.invoke(memory.load_memory_variables({})[\"history\"])\n",
    "            print(f\"챗봇: {final_response.content}\")\n",
    "            # 대화 기록에 AI 메시지 추가\n",
    "            memory.save_context({\"input\": function_result}, {\"output\": final_response.content})\n",
    "        else:\n",
    "            print(f\"알 수 없는 함수 호출: {function_name}\")\n",
    "    else:\n",
    "        print(f\"챗봇: {response.content}\")\n",
    "\n",
    "def process_response(response):\n",
    "    if response.additional_kwargs.get(\"function_call\"):\n",
    "        handle_function_call(response)\n",
    "    else:\n",
    "        print(f\"챗봇: {response.content}\")\n",
    "\n",
    "class ModelInvocation(Runnable):\n",
    "    def invoke(self, input, config=None):\n",
    "        # 현재 사용자 입력을 메시지로 변환\n",
    "        user_message = chat_template.format_messages(user_input=input)\n",
    "        # 이전 대화 기록과 현재 입력을 결합하여 모델 호출\n",
    "        messages = memory.load_memory_variables({})[\"history\"] + user_message\n",
    "        # 모델 응답 생성\n",
    "        response = model.invoke(messages)\n",
    "        # 현재 대화를 메모리에 저장\n",
    "        memory.save_context({\"input\": input}, {\"output\": response.content})\n",
    "        return response\n",
    "\n",
    "class ResponseProcessor(Runnable):\n",
    "    def invoke(self, input, config=None):\n",
    "        process_response(input)\n",
    "        return input\n",
    "\n",
    "chat_chain = (\n",
    "    ModelInvocation()\n",
    "    | ResponseProcessor()\n",
    ")\n",
    "\n",
    "def main():\n",
    "    # 프로그램 시작 시 초기 AI 메시지를 출력합니다.\n",
    "    initial_messages = chat_template.format_messages(user_input=\"\")\n",
    "    response = model.invoke(initial_messages)\n",
    "    process_response(response)\n",
    "\n",
    "    while True:\n",
    "        user_input = get_user_input()\n",
    "        if user_input.lower() in [\"종료\", \"exit\", \"quit\"]:\n",
    "            print(\"대화를 종료합니다.\")\n",
    "            break\n",
    "        response = chat_chain.invoke(user_input)\n",
    "\n",
    "if __name__ == \"__main__\":\n",
    "    main()"
   ]
  },
  {
   "cell_type": "code",
   "execution_count": null,
   "id": "a3255dc1-c3ae-45b9-b261-36926784a29c",
   "metadata": {},
   "outputs": [],
   "source": []
  },
  {
   "cell_type": "code",
   "execution_count": null,
   "id": "88755249-d45e-4105-b97b-3fe00437d114",
   "metadata": {},
   "outputs": [],
   "source": []
  },
  {
   "cell_type": "code",
   "execution_count": null,
   "id": "0d31c7ac-0aa5-449a-b039-9a8e45f41595",
   "metadata": {},
   "outputs": [],
   "source": []
  },
  {
   "cell_type": "code",
   "execution_count": null,
   "id": "96b04c11-0aed-4a56-a6cb-7fef2a1c210c",
   "metadata": {},
   "outputs": [],
   "source": []
  },
  {
   "cell_type": "code",
   "execution_count": null,
   "id": "3fa6fcde-f6ae-4c41-a27e-8deccd4e477a",
   "metadata": {},
   "outputs": [],
   "source": []
  },
  {
   "cell_type": "code",
   "execution_count": null,
   "id": "37051989-5940-45dc-917a-b090d0539c94",
   "metadata": {},
   "outputs": [],
   "source": []
  },
  {
   "cell_type": "code",
   "execution_count": null,
   "id": "6e8fd908-df72-464c-a85d-39ec860253a6",
   "metadata": {},
   "outputs": [],
   "source": []
  }
 ],
 "metadata": {
  "kernelspec": {
   "display_name": "AI_study",
   "language": "python",
   "name": "ai"
  },
  "language_info": {
   "codemirror_mode": {
    "name": "ipython",
    "version": 3
   },
   "file_extension": ".py",
   "mimetype": "text/x-python",
   "name": "python",
   "nbconvert_exporter": "python",
   "pygments_lexer": "ipython3",
   "version": "3.9.20"
  }
 },
 "nbformat": 4,
 "nbformat_minor": 5
}
