{
 "cells": [
  {
   "cell_type": "markdown",
   "id": "19cf4141-12e6-4efe-b4d4-c14814244d4a",
   "metadata": {},
   "source": [
    "# API 데이터"
   ]
  },
  {
   "cell_type": "code",
   "execution_count": 14,
   "id": "bdcce3de-1ec4-4119-ac88-c199a9fc5d42",
   "metadata": {},
   "outputs": [],
   "source": [
    "import requests\n",
    "from dotenv import load_dotenv\n",
    "import os\n",
    "import math "
   ]
  },
  {
   "cell_type": "code",
   "execution_count": 15,
   "id": "1438bc88-fae4-47f6-9660-8db3242b04bd",
   "metadata": {},
   "outputs": [],
   "source": [
    "# .env 파일 로드\n",
    "load_dotenv()\n",
    "# 환경 변수에서 API 키 가져오기\n",
    "serviceKey = os.getenv(\"SERVICE_KEY\") # SERVICE_KEY=your_actual_service_key_here `.env` 파일 안의 내용\n",
    "#print(f\"'{servicekey}'\")"
   ]
  },
  {
   "cell_type": "code",
   "execution_count": 16,
   "id": "151fe1c0-835c-475c-b905-67ac3cef4173",
   "metadata": {
    "scrolled": true
   },
   "outputs": [
    {
     "data": {
      "text/plain": [
       "'\\nurl = \"https://www.safetydata.go.kr\"\\ndataName = \"/V2/api/DSSP-IF-00195\" # 민방위 대피소 데이터 url 입력   \\npayloads = {\\n    \"serviceKey\": serviceKey, # \"servicekey : K 대문자로 써야된다고 함...ㅡㅡ\\n    \"returnType\": \"json\",\\n    \"pageNo\": \"23\", # 2만 3000개?\\n    \"numOfRows\": \"1000\",\\n    }\\n\\n# API 요청 보내기\\nresponse = requests.get(url + dataName, params=payloads)\\nif response.status_code == 200:\\n    data = response.json()\\nelse:\\n    print(\"데이터 가져오기 오류:\", response.status_code)\\nprint(\"최종 요청 URL:\", response.url)\\n'"
      ]
     },
     "execution_count": 16,
     "metadata": {},
     "output_type": "execute_result"
    }
   ],
   "source": [
    "'''\n",
    "url = \"https://www.safetydata.go.kr\"\n",
    "dataName = \"/V2/api/DSSP-IF-00195\" # 민방위 대피소 데이터 url 입력   \n",
    "payloads = {\n",
    "    \"serviceKey\": serviceKey, # \"servicekey : K 대문자로 써야된다고 함...ㅡㅡ\n",
    "    \"returnType\": \"json\",\n",
    "    \"pageNo\": \"23\", # 2만 3000개?\n",
    "    \"numOfRows\": \"1000\",\n",
    "    }\n",
    "\n",
    "# API 요청 보내기\n",
    "response = requests.get(url + dataName, params=payloads)\n",
    "if response.status_code == 200:\n",
    "    data = response.json()\n",
    "else:\n",
    "    print(\"데이터 가져오기 오류:\", response.status_code)\n",
    "print(\"최종 요청 URL:\", response.url)\n",
    "'''"
   ]
  },
  {
   "cell_type": "markdown",
   "id": "62cf8674-21aa-4e07-8aac-612d94cd4940",
   "metadata": {},
   "source": [
    "# 모든 대피소 데이터 가져오기"
   ]
  },
  {
   "cell_type": "code",
   "execution_count": 17,
   "id": "4c81f378-735d-4e06-83b9-9a7ee5b4c2f2",
   "metadata": {},
   "outputs": [
    {
     "data": {
      "text/plain": [
       "'\\n# 모든 대피소 데이터를 저장할 리스트 초기화\\nurl = \"https://www.safetydata.go.kr\"\\ndataName = \"/V2/api/DSSP-IF-00195\" # 민방위 대피소 데이터 url 입력   \\nshelters = []\\npageNo = 1\\nnumOfRows = 1000  # 한 페이지당 최대 행 수\\nwhile True:\\n    # API 요청에 필요한 파라미터 설정\\n    payloads = {\\n        \"serviceKey\": serviceKey,  # \\'K\\'를 대문자로 작성해야 합니다\\n        \"returnType\": \"json\",\\n        \"pageNo\": pageNo,\\n        \"numOfRows\": numOfRows,\\n    }\\n\\n    # API 요청 보내기\\n    response = requests.get(url + dataName, params=payloads)\\n    if response.status_code == 200:\\n        data = response.json()\\n        # 최종 요청 URL 출력 (디버깅용)\\n        print(f\"최종 요청 URL: {response.url}\")\\n\\n        # \\'body\\' 부분에서 대피소 데이터 가져오기\\n        page_shelters = data.get(\"body\", [])\\n        if not page_shelters:\\n            # 더 이상 가져올 데이터가 없으면 루프 종료\\n            break\\n        shelters.extend(page_shelters)\\n        pageNo += 1  # 다음 페이지로 이동\\n    else:\\n        print(\"데이터 가져오기 오류:\", response.status_code)\\n        break\\n\\n# 가져온 대피소 데이터의 개수 출력\\nprint(f\"총 {len(shelters)}개의 대피소 데이터를 가져왔습니다.\")\\n\\n# 필요에 따라 shelters 데이터를 전처리하거나 저장할 수 있습니다\\n'"
      ]
     },
     "execution_count": 17,
     "metadata": {},
     "output_type": "execute_result"
    }
   ],
   "source": [
    "'''\n",
    "# 모든 대피소 데이터를 저장할 리스트 초기화\n",
    "url = \"https://www.safetydata.go.kr\"\n",
    "dataName = \"/V2/api/DSSP-IF-00195\" # 민방위 대피소 데이터 url 입력   \n",
    "shelters = []\n",
    "pageNo = 1\n",
    "numOfRows = 1000  # 한 페이지당 최대 행 수\n",
    "while True:\n",
    "    # API 요청에 필요한 파라미터 설정\n",
    "    payloads = {\n",
    "        \"serviceKey\": serviceKey,  # 'K'를 대문자로 작성해야 합니다\n",
    "        \"returnType\": \"json\",\n",
    "        \"pageNo\": pageNo,\n",
    "        \"numOfRows\": numOfRows,\n",
    "    }\n",
    "\n",
    "    # API 요청 보내기\n",
    "    response = requests.get(url + dataName, params=payloads)\n",
    "    if response.status_code == 200:\n",
    "        data = response.json()\n",
    "        # 최종 요청 URL 출력 (디버깅용)\n",
    "        print(f\"최종 요청 URL: {response.url}\")\n",
    "\n",
    "        # 'body' 부분에서 대피소 데이터 가져오기\n",
    "        page_shelters = data.get(\"body\", [])\n",
    "        if not page_shelters:\n",
    "            # 더 이상 가져올 데이터가 없으면 루프 종료\n",
    "            break\n",
    "        shelters.extend(page_shelters)\n",
    "        pageNo += 1  # 다음 페이지로 이동\n",
    "    else:\n",
    "        print(\"데이터 가져오기 오류:\", response.status_code)\n",
    "        break\n",
    "\n",
    "# 가져온 대피소 데이터의 개수 출력\n",
    "print(f\"총 {len(shelters)}개의 대피소 데이터를 가져왔습니다.\")\n",
    "\n",
    "# 필요에 따라 shelters 데이터를 전처리하거나 저장할 수 있습니다\n",
    "'''"
   ]
  },
  {
   "cell_type": "markdown",
   "id": "7272e776-50cd-46bf-bf52-88c436be2103",
   "metadata": {},
   "source": [
    "### 파일 저장하기"
   ]
  },
  {
   "cell_type": "code",
   "execution_count": 18,
   "id": "837ae4e0-d5b5-48c6-8e27-32121a82b0dc",
   "metadata": {},
   "outputs": [
    {
     "data": {
      "text/plain": [
       "'\\nimport json\\n\\n# 파일로 저장\\nwith open(\"shelters.json\", \"w\", encoding=\"utf-8\") as f:\\n    json.dump(shelters, f, ensure_ascii=False, indent=4)  # ensure_ascii=False: 한글 깨짐 방지\\n'"
      ]
     },
     "execution_count": 18,
     "metadata": {},
     "output_type": "execute_result"
    }
   ],
   "source": [
    "'''\n",
    "import json\n",
    "\n",
    "# 파일로 저장\n",
    "with open(\"shelters.json\", \"w\", encoding=\"utf-8\") as f:\n",
    "    json.dump(shelters, f, ensure_ascii=False, indent=4)  # ensure_ascii=False: 한글 깨짐 방지\n",
    "'''"
   ]
  },
  {
   "cell_type": "markdown",
   "id": "f2762ea2-1d7b-4564-82b8-a895d7e85871",
   "metadata": {},
   "source": [
    "### 파일 불러오기"
   ]
  },
  {
   "cell_type": "code",
   "execution_count": 19,
   "id": "2699c139-ca3b-403a-97ea-95774b59d5ec",
   "metadata": {
    "scrolled": true
   },
   "outputs": [
    {
     "name": "stdout",
     "output_type": "stream",
     "text": [
      "[{'GRND_UDGD_SE': '1', 'ORTM_UTLZ_TYPE': '주차장', 'SGG_CD': '3910000', 'FCLT_CD': 'S202400002', 'FCLT_SE_CD': '3           ', 'ROAD_NM_CD': '3352297     ', 'LOT_MIN': 6, 'SHNT_PSBLTY_NOPE': '34761', 'FCLT_SCL': 28678, 'LOT_SEC': 24, 'EMD_NM': '송탄동', 'FCLT_ADDR_RONA': '경기도 평택시 신촌5로 56 (칠원동, 평택지제역동문굿모닝힐맘시티4단지)', 'SE_CD': '2', 'OPN_YN': 'Y', 'LAT_SEC': 31, 'LAT_PROVIN': 37, 'LAT_MIN': 1, 'MNG_INST_TELNO': '031-8024-4900', 'FCLT_NM': '평택지제역동문굿모닝힐맘시티4단지 지하주차장 1층', 'FCLT_DSGN_DAY': '20240126', 'MNG_INST_NM': '경기도 평택시청', 'FCLT_ADDR_LOTNO': '경기도 평택시 칠원동 595 평택지제역동문굿모닝힐맘시티4단지', 'SCL_UNIT': '㎡', 'LOT_PROVIN': 127, 'EMD_CD': '3910077     '}, {'GRND_UDGD_SE': '1', 'ORTM_UTLZ_TYPE': '주차장', 'SGG_CD': '3910000', 'FCLT_CD': 'S202400001', 'FCLT_SE_CD': '3           ', 'ROAD_NM_CD': '3352295     ', 'LOT_MIN': 6, 'SHNT_PSBLTY_NOPE': '37152', 'FCLT_SCL': 30651, 'LOT_SEC': 27, 'EMD_NM': '송탄동', 'FCLT_ADDR_RONA': '경기도 평택시 신촌3로 12 (칠원동, 평택지제역동문굿모닝힐맘시티2단지)', 'SE_CD': '2', 'OPN_YN': 'Y', 'LAT_SEC': 35, 'LAT_PROVIN': 37, 'LAT_MIN': 1, 'MNG_INST_TELNO': '031-8024-4900', 'FCLT_NM': '평택지제역동문굿모닝힐맘시티2단지 지하주차장 1층', 'FCLT_DSGN_DAY': '20240126', 'MNG_INST_NM': '경기도 평택시청', 'FCLT_ADDR_LOTNO': '경기도 평택시 칠원동 559 평택지제역동문굿모닝힐맘시티2단지', 'SCL_UNIT': '㎡', 'LOT_PROVIN': 127, 'EMD_CD': '3910077     '}, {'GRND_UDGD_SE': '1', 'ORTM_UTLZ_TYPE': '주차장', 'SGG_CD': '4020000', 'FCLT_CD': 'S202400001', 'FCLT_SE_CD': '3           ', 'ROAD_NM_CD': '3182030     ', 'LOT_MIN': 56, 'SHNT_PSBLTY_NOPE': '39997', 'FCLT_SCL': 32998, 'LOT_SEC': 42, 'EMD_NM': '금정동', 'FCLT_ADDR_RONA': '경기도 군포시 엘에스로 143 (금정동, 힐스테이트 금정역)', 'SE_CD': '2', 'OPN_YN': 'Y', 'LAT_SEC': 24, 'LAT_PROVIN': 37, 'LAT_MIN': 22, 'MNG_INST_TELNO': None, 'FCLT_NM': '힐스테이트 금정역 지하주차장', 'FCLT_DSGN_DAY': '20240131', 'MNG_INST_NM': '경기도 군포시청', 'FCLT_ADDR_LOTNO': '경기도 군포시 금정동 916 힐스테이트 금정역', 'SCL_UNIT': '㎡', 'LOT_PROVIN': 126, 'EMD_CD': '4020038     '}, {'GRND_UDGD_SE': '1', 'ORTM_UTLZ_TYPE': '지하주차장', 'SGG_CD': '3650000', 'FCLT_CD': 'S201700010', 'FCLT_SE_CD': '3           ', 'ROAD_NM_CD': '3165028     ', 'LOT_MIN': 23, 'SHNT_PSBLTY_NOPE': '6577', 'FCLT_SCL': 5426, 'LOT_SEC': 55, 'EMD_NM': '태평1동', 'FCLT_ADDR_RONA': '대전광역시 중구 수침로 138 (태평동, 유등마을아파트)', 'SE_CD': '2', 'OPN_YN': 'Y', 'LAT_SEC': 56, 'LAT_PROVIN': 36, 'LAT_MIN': 19, 'MNG_INST_TELNO': '042-606-6036', 'FCLT_NM': '유등마을아파트 104동', 'FCLT_DSGN_DAY': '20170628', 'MNG_INST_NM': '대전광역시 중구청', 'FCLT_ADDR_LOTNO': '대전광역시 중구 태평동 253번지 1호', 'SCL_UNIT': '㎡', 'LOT_PROVIN': 127, 'EMD_CD': '3650041     '}, {'GRND_UDGD_SE': '1', 'ORTM_UTLZ_TYPE': '지하주차장', 'SGG_CD': '3650000', 'FCLT_CD': 'S201700011', 'FCLT_SE_CD': '3           ', 'ROAD_NM_CD': '3165028     ', 'LOT_MIN': 23, 'SHNT_PSBLTY_NOPE': '5126', 'FCLT_SCL': 4229, 'LOT_SEC': 56, 'EMD_NM': '태평1동', 'FCLT_ADDR_RONA': '대전광역시 중구 수침로 138 (태평동, 유등마을아파트)', 'SE_CD': '2', 'OPN_YN': 'Y', 'LAT_SEC': 54, 'LAT_PROVIN': 36, 'LAT_MIN': 19, 'MNG_INST_TELNO': '042-606-6036', 'FCLT_NM': '유등마을아파트 106동', 'FCLT_DSGN_DAY': '20170628', 'MNG_INST_NM': '대전광역시 중구청', 'FCLT_ADDR_LOTNO': '대전광역시 중구 태평동 253번지 1호', 'SCL_UNIT': '㎡', 'LOT_PROVIN': 127, 'EMD_CD': '3650041     '}, {'GRND_UDGD_SE': '1', 'ORTM_UTLZ_TYPE': '지하주차장', 'SGG_CD': '3650000', 'FCLT_CD': 'S201700012', 'FCLT_SE_CD': '3           ', 'ROAD_NM_CD': '3165028     ', 'LOT_MIN': 23, 'SHNT_PSBLTY_NOPE': '4642', 'FCLT_SCL': 3830, 'LOT_SEC': 56, 'EMD_NM': '태평1동', 'FCLT_ADDR_RONA': '대전광역시 중구 수침로 138 (태평동, 유등마을아파트)', 'SE_CD': '2', 'OPN_YN': 'Y', 'LAT_SEC': 52, 'LAT_PROVIN': 36, 'LAT_MIN': 19, 'MNG_INST_TELNO': '042-606-6036', 'FCLT_NM': '유등마을아파트 108동', 'FCLT_DSGN_DAY': '20170628', 'MNG_INST_NM': '대전광역시 중구청', 'FCLT_ADDR_LOTNO': '대전광역시 중구 태평동 253번지 1호', 'SCL_UNIT': '㎡', 'LOT_PROVIN': 127, 'EMD_CD': '3650041     '}, {'GRND_UDGD_SE': '1', 'ORTM_UTLZ_TYPE': '지하주차장', 'SGG_CD': '3650000', 'FCLT_CD': 'S201700013', 'FCLT_SE_CD': '3           ', 'ROAD_NM_CD': '3165028     ', 'LOT_MIN': 23, 'SHNT_PSBLTY_NOPE': '1518', 'FCLT_SCL': 1253, 'LOT_SEC': 53, 'EMD_NM': '태평1동', 'FCLT_ADDR_RONA': '대전광역시 중구 수침로 138 (태평동, 유등마을아파트)', 'SE_CD': '2', 'OPN_YN': 'Y', 'LAT_SEC': 55, 'LAT_PROVIN': 36, 'LAT_MIN': 19, 'MNG_INST_TELNO': '042-606-6036', 'FCLT_NM': '유등마을아파트 110동', 'FCLT_DSGN_DAY': '20170628', 'MNG_INST_NM': '대전광역시 중구청', 'FCLT_ADDR_LOTNO': '대전광역시 중구 태평동 253번지 1호', 'SCL_UNIT': '㎡', 'LOT_PROVIN': 127, 'EMD_CD': '3650041     '}, {'GRND_UDGD_SE': '1', 'ORTM_UTLZ_TYPE': '지하주차장', 'SGG_CD': '3650000', 'FCLT_CD': 'S201700014', 'FCLT_SE_CD': '3           ', 'ROAD_NM_CD': '3165028     ', 'LOT_MIN': 23, 'SHNT_PSBLTY_NOPE': '2563', 'FCLT_SCL': 2115, 'LOT_SEC': 54, 'EMD_NM': '태평1동', 'FCLT_ADDR_RONA': '대전광역시 중구 수침로 138 (태평동, 유등마을아파트)', 'SE_CD': '2', 'OPN_YN': 'Y', 'LAT_SEC': 53, 'LAT_PROVIN': 36, 'LAT_MIN': 19, 'MNG_INST_TELNO': '042-606-6036', 'FCLT_NM': '유등마을아파트 111동', 'FCLT_DSGN_DAY': '20170628', 'MNG_INST_NM': '대전광역시 중구청', 'FCLT_ADDR_LOTNO': '대전광역시 중구 태평동 253번지 1호', 'SCL_UNIT': '㎡', 'LOT_PROVIN': 127, 'EMD_CD': '3650041     '}, {'GRND_UDGD_SE': '1', 'ORTM_UTLZ_TYPE': '지하주차장', 'SGG_CD': '3650000', 'FCLT_CD': 'S201700015', 'FCLT_SE_CD': '3           ', 'ROAD_NM_CD': '3165028     ', 'LOT_MIN': 23, 'SHNT_PSBLTY_NOPE': '2563', 'FCLT_SCL': 2115, 'LOT_SEC': 55, 'EMD_NM': '태평1동', 'FCLT_ADDR_RONA': '대전광역시 중구 수침로 138 (태평동, 유등마을아파트)', 'SE_CD': '2', 'OPN_YN': 'Y', 'LAT_SEC': 51, 'LAT_PROVIN': 36, 'LAT_MIN': 19, 'MNG_INST_TELNO': '042-606-6036', 'FCLT_NM': '유등마을아파트 112동', 'FCLT_DSGN_DAY': '20170628', 'MNG_INST_NM': '대전광역시 중구청', 'FCLT_ADDR_LOTNO': '대전광역시 중구 태평동 253번지 1호', 'SCL_UNIT': '㎡', 'LOT_PROVIN': 127, 'EMD_CD': '3650041     '}, {'GRND_UDGD_SE': '1', 'ORTM_UTLZ_TYPE': '지하주차장', 'SGG_CD': '3650000', 'FCLT_CD': 'S201700016', 'FCLT_SE_CD': '3           ', 'ROAD_NM_CD': '3010023     ', 'LOT_MIN': 23, 'SHNT_PSBLTY_NOPE': '4400', 'FCLT_SCL': 3630, 'LOT_SEC': 54, 'EMD_NM': '태평1동', 'FCLT_ADDR_RONA': '대전광역시 중구 평촌로 111 (태평동, 태평아파트)', 'SE_CD': '2', 'OPN_YN': 'Y', 'LAT_SEC': 28, 'LAT_PROVIN': 36, 'LAT_MIN': 19, 'MNG_INST_TELNO': '042-606-6036', 'FCLT_NM': '태평아파트 103동', 'FCLT_DSGN_DAY': '20170628', 'MNG_INST_NM': '대전광역시 중구청', 'FCLT_ADDR_LOTNO': '대전광역시 중구 태평동 317번지', 'SCL_UNIT': '㎡', 'LOT_PROVIN': 127, 'EMD_CD': '3650041     '}, {'GRND_UDGD_SE': '0', 'ORTM_UTLZ_TYPE': None, 'SGG_CD': '3650000', 'FCLT_CD': 'E198100002', 'FCLT_SE_CD': '2           ', 'ROAD_NM_CD': '3165019     ', 'LOT_MIN': 26, 'SHNT_PSBLTY_NOPE': '0', 'FCLT_SCL': 70, 'LOT_SEC': 16, 'EMD_NM': '석교동', 'FCLT_ADDR_RONA': '대전광역시 중구 사득로 68 (석교동, 남양아파트)', 'SE_CD': '1', 'OPN_YN': 'N', 'LAT_SEC': 35, 'LAT_PROVIN': 36, 'LAT_MIN': 18, 'MNG_INST_TELNO': None, 'FCLT_NM': '남양아파트', 'FCLT_DSGN_DAY': '19810604', 'MNG_INST_NM': '대전광역시 중구청', 'FCLT_ADDR_LOTNO': '대전광역시 중구 석교동 195번지', 'SCL_UNIT': 't(톤)', 'LOT_PROVIN': 127, 'EMD_CD': '3650035     '}]\n"
     ]
    }
   ],
   "source": [
    "# shelters.json 불러오기 API 호출 안해도 된다 이제.\n",
    "# 파일에서 불러오기\n",
    "import json\n",
    "with open(\"shelters.json\", \"r\", encoding=\"utf-8\") as f:\n",
    "    shelters = json.load(f)\n",
    "\n",
    "print(shelters[0:11])\n"
   ]
  },
  {
   "cell_type": "code",
   "execution_count": 20,
   "id": "2cdc1116-520a-44e2-940c-8c9f6aed9a67",
   "metadata": {
    "scrolled": true
   },
   "outputs": [
    {
     "name": "stdout",
     "output_type": "stream",
     "text": [
      "{'GRND_UDGD_SE': '1', 'ORTM_UTLZ_TYPE': '주차장', 'SGG_CD': '3910000', 'FCLT_CD': 'S202400002', 'FCLT_SE_CD': '3           ', 'ROAD_NM_CD': '3352297     ', 'LOT_MIN': 6, 'SHNT_PSBLTY_NOPE': '34761', 'FCLT_SCL': 28678, 'LOT_SEC': 24, 'EMD_NM': '송탄동', 'FCLT_ADDR_RONA': '경기도 평택시 신촌5로 56 (칠원동, 평택지제역동문굿모닝힐맘시티4단지)', 'SE_CD': '2', 'OPN_YN': 'Y', 'LAT_SEC': 31, 'LAT_PROVIN': 37, 'LAT_MIN': 1, 'MNG_INST_TELNO': '031-8024-4900', 'FCLT_NM': '평택지제역동문굿모닝힐맘시티4단지 지하주차장 1층', 'FCLT_DSGN_DAY': '20240126', 'MNG_INST_NM': '경기도 평택시청', 'FCLT_ADDR_LOTNO': '경기도 평택시 칠원동 595 평택지제역동문굿모닝힐맘시티4단지', 'SCL_UNIT': '㎡', 'LOT_PROVIN': 127, 'EMD_CD': '3910077     '}\n",
      "{'GRND_UDGD_SE': '0', 'ORTM_UTLZ_TYPE': '생활용수', 'SGG_CD': '4100100', 'FCLT_CD': 'E200500013', 'FCLT_SE_CD': '3           ', 'ROAD_NM_CD': '3194010     ', 'LOT_MIN': 43, 'SHNT_PSBLTY_NOPE': '0', 'FCLT_SCL': 80, 'LOT_SEC': 51, 'EMD_NM': '일산서구 송포동', 'FCLT_ADDR_RONA': '경기도 고양시 일산서구 대화로 97 (대화동)', 'SE_CD': '1', 'OPN_YN': 'Y', 'LAT_SEC': 8, 'LAT_PROVIN': 37, 'LAT_MIN': 40, 'MNG_INST_TELNO': '031-8075-3570', 'FCLT_NM': '명성운수(송포동)', 'FCLT_DSGN_DAY': '20050516', 'MNG_INST_NM': '경기도 고양시 일산서구청', 'FCLT_ADDR_LOTNO': '경기도 고양시 일산서구 대화동 1475번지 2호', 'SCL_UNIT': 't(톤)', 'LOT_PROVIN': 126, 'EMD_CD': '4100115     '}\n"
     ]
    }
   ],
   "source": [
    "print(shelters[0])\n",
    "print(shelters[22823])"
   ]
  },
  {
   "cell_type": "markdown",
   "id": "04c88a24-eeb6-49a8-aa07-c520e8b7f4e7",
   "metadata": {},
   "source": [
    "# 판다스로 데이터 프레임 만들기"
   ]
  },
  {
   "cell_type": "code",
   "execution_count": 21,
   "id": "c570ae8a-ad88-4c05-a4eb-4d93ee4fb9eb",
   "metadata": {
    "scrolled": true
   },
   "outputs": [
    {
     "name": "stdout",
     "output_type": "stream",
     "text": [
      "   GRND_UDGD_SE ORTM_UTLZ_TYPE   SGG_CD     FCLT_CD    FCLT_SE_CD  \\\n",
      "0             1            주차장  3910000  S202400002  3              \n",
      "1             1            주차장  3910000  S202400001  3              \n",
      "2             1            주차장  4020000  S202400001  3              \n",
      "3             1          지하주차장  3650000  S201700010  3              \n",
      "4             1          지하주차장  3650000  S201700011  3              \n",
      "5             1          지하주차장  3650000  S201700012  3              \n",
      "6             1          지하주차장  3650000  S201700013  3              \n",
      "7             1          지하주차장  3650000  S201700014  3              \n",
      "8             1          지하주차장  3650000  S201700015  3              \n",
      "9             1          지하주차장  3650000  S201700016  3              \n",
      "12            1            교육장  3650000  S201100007  3              \n",
      "13            1            교육장  3650000  S201100008  3              \n",
      "14            1          지하주차장  3650000  S201100009  3              \n",
      "17            1            주차장  4030000  S200300041  3              \n",
      "19            1          지하주차장  5090000  S201000002  3              \n",
      "20            1          지하주차장  5090000  S199500002  3              \n",
      "22            1            주차장  3650000  S201000005  3              \n",
      "27            1          지하주차장  3060000  S199600005  3              \n",
      "28            1          지하주차장  3060000  S195800001  3              \n",
      "29            1          지하주차장  3060000  S201000004  3              \n",
      "\n",
      "      ROAD_NM_CD  LOT_MIN SHNT_PSBLTY_NOPE  FCLT_SCL  LOT_SEC  ... LAT_PROVIN  \\\n",
      "0   3352297             6            34761     28678       24  ...         37   \n",
      "1   3352295             6            37152     30651       27  ...         37   \n",
      "2   3182030            56            39997     32998       42  ...         37   \n",
      "3   3165028            23             6577      5426       55  ...         36   \n",
      "4   3165028            23             5126      4229       56  ...         36   \n",
      "5   3165028            23             4642      3830       56  ...         36   \n",
      "6   3165028            23             1518      1253       53  ...         36   \n",
      "7   3165028            23             2563      2115       54  ...         36   \n",
      "8   3165028            23             2563      2115       55  ...         36   \n",
      "9   3010023            23             4400      3630       54  ...         36   \n",
      "12  3010004            26              296       245       50  ...         36   \n",
      "13  3010004            26              208       172       50  ...         36   \n",
      "14  3010004            26              672       555       53  ...         36   \n",
      "17  3201025            58             4936      4073       17  ...         37   \n",
      "19  4727488            38            18196     15012       11  ...         36   \n",
      "20  4727487            38             1393      1150        0  ...         36   \n",
      "22  4295540            23             2403      1983       34  ...         36   \n",
      "27  4118027             5              973       803       26  ...         37   \n",
      "28  4118254             5              470       388       14  ...         37   \n",
      "29  4118015             5             5176      4271        7  ...         37   \n",
      "\n",
      "   LAT_MIN MNG_INST_TELNO                     FCLT_NM  FCLT_DSGN_DAY  \\\n",
      "0        1  031-8024-4900  평택지제역동문굿모닝힐맘시티4단지 지하주차장 1층       20240126   \n",
      "1        1  031-8024-4900  평택지제역동문굿모닝힐맘시티2단지 지하주차장 1층       20240126   \n",
      "2       22           None             힐스테이트 금정역 지하주차장       20240131   \n",
      "3       19   042-606-6036                유등마을아파트 104동       20170628   \n",
      "4       19   042-606-6036                유등마을아파트 106동       20170628   \n",
      "5       19   042-606-6036                유등마을아파트 108동       20170628   \n",
      "6       19   042-606-6036                유등마을아파트 110동       20170628   \n",
      "7       19   042-606-6036                유등마을아파트 111동       20170628   \n",
      "8       19   042-606-6036                유등마을아파트 112동       20170628   \n",
      "9       19   042-606-6036                  태평아파트 103동       20170628   \n",
      "12      18   042-606-6036             대석침례교회 구관 지하 1층       20110826   \n",
      "13      18   042-606-6036             대석침례교회 신관 지하 1층       20110826   \n",
      "14      18   042-606-6036             황제장어나라 지하주차장 1층       20110826   \n",
      "17      21   031-345-2580         동백아파트 지하주차장(4~6) 1층       20030501   \n",
      "19      49           None             코아루아파트 지하주차장 1층       20100716   \n",
      "20      49           None         영남동산아파트 1동 지하추자장 1층       19951208   \n",
      "22      18   042-606-6036                       유등탑스빌       20100609   \n",
      "27      35   02-2094-1601            신세대프라자(지하주차장 2층)       19960512   \n",
      "28      35   02-2094-1601             뉴한두빌라(지하주차장 1층)       19970219   \n",
      "29      35   02-2094-1601      면목아남리치카운티아파트(지하주차장 1층)       20101102   \n",
      "\n",
      "    MNG_INST_NM                    FCLT_ADDR_LOTNO SCL_UNIT LOT_PROVIN  \\\n",
      "0      경기도 평택시청  경기도 평택시 칠원동 595 평택지제역동문굿모닝힐맘시티4단지        ㎡        127   \n",
      "1      경기도 평택시청  경기도 평택시 칠원동 559 평택지제역동문굿모닝힐맘시티2단지        ㎡        127   \n",
      "2      경기도 군포시청          경기도 군포시 금정동 916 힐스테이트 금정역        ㎡        126   \n",
      "3     대전광역시 중구청              대전광역시 중구 태평동 253번지 1호        ㎡        127   \n",
      "4     대전광역시 중구청              대전광역시 중구 태평동 253번지 1호        ㎡        127   \n",
      "5     대전광역시 중구청              대전광역시 중구 태평동 253번지 1호        ㎡        127   \n",
      "6     대전광역시 중구청              대전광역시 중구 태평동 253번지 1호        ㎡        127   \n",
      "7     대전광역시 중구청              대전광역시 중구 태평동 253번지 1호        ㎡        127   \n",
      "8     대전광역시 중구청              대전광역시 중구 태평동 253번지 1호        ㎡        127   \n",
      "9     대전광역시 중구청                 대전광역시 중구 태평동 317번지        ㎡        127   \n",
      "12    대전광역시 중구청                  대전광역시 중구 석교동 88-1        ㎡        127   \n",
      "13    대전광역시 중구청               대전광역시 중구 석교동 88번지 1호        ㎡        127   \n",
      "14    대전광역시 중구청                   대전광역시 중구 호동 11-2        ㎡        127   \n",
      "17     경기도 의왕시청                  경기도 의왕시 오전동 849번지        ㎡        126   \n",
      "19    경상북도 영주시청            경상북도 영주시 상망동 834 코아루아파트        ㎡        128   \n",
      "20    경상북도 영주시청         경상북도 영주시 하망동 88 영남동산아파트 1동        ㎡        128   \n",
      "22    대전광역시 중구청             대전광역시 중구 유천동 331번지 10호        ㎡        127   \n",
      "27   서울특별시 중랑구청            서울특별시 중랑구 면목동 100번지 31호        ㎡        127   \n",
      "28   서울특별시 중랑구청             서울특별시 중랑구 면목동 226번지 1호        ㎡        127   \n",
      "29   서울특별시 중랑구청               서울특별시 중랑구 면목동 1505번지        ㎡        127   \n",
      "\n",
      "          EMD_CD  \n",
      "0   3910077       \n",
      "1   3910077       \n",
      "2   4020038       \n",
      "3   3650041       \n",
      "4   3650041       \n",
      "5   3650041       \n",
      "6   3650041       \n",
      "7   3650041       \n",
      "8   3650041       \n",
      "9   3650041       \n",
      "12  3650035       \n",
      "13  3650035       \n",
      "14  3650035       \n",
      "17  4030029       \n",
      "19  5090043       \n",
      "20  5090043       \n",
      "22  3650043       \n",
      "27  3060123       \n",
      "28  3060123       \n",
      "29  3060123       \n",
      "\n",
      "[20 rows x 25 columns]\n"
     ]
    }
   ],
   "source": [
    "import pandas as pd\n",
    "\n",
    "# shelters 리스트를 데이터프레임으로 변환\n",
    "df = pd.DataFrame(shelters)\n",
    "df = df[df['SHNT_PSBLTY_NOPE'] != '0']  # 대피가능인원수 0인 곳을 제외\n",
    "# 데이터프레임 확인\n",
    "print(df.head(20))"
   ]
  },
  {
   "cell_type": "markdown",
   "id": "24947cf9-2c54-42a6-8aca-14c5733ce789",
   "metadata": {},
   "source": [
    "## 주소 위도 경도만 나타내기"
   ]
  },
  {
   "cell_type": "code",
   "execution_count": 22,
   "id": "c3fc190a-36ad-49b3-84bb-318a21197894",
   "metadata": {},
   "outputs": [
    {
     "name": "stdout",
     "output_type": "stream",
     "text": [
      "                          시설명                                        주소  \\\n",
      "0  평택지제역동문굿모닝힐맘시티4단지 지하주차장 1층  경기도 평택시 신촌5로 56 (칠원동, 평택지제역동문굿모닝힐맘시티4단지)   \n",
      "1  평택지제역동문굿모닝힐맘시티2단지 지하주차장 1층  경기도 평택시 신촌3로 12 (칠원동, 평택지제역동문굿모닝힐맘시티2단지)   \n",
      "2             힐스테이트 금정역 지하주차장         경기도 군포시 엘에스로 143 (금정동, 힐스테이트 금정역)   \n",
      "3                유등마을아파트 104동           대전광역시 중구 수침로 138 (태평동, 유등마을아파트)   \n",
      "4                유등마을아파트 106동           대전광역시 중구 수침로 138 (태평동, 유등마을아파트)   \n",
      "\n",
      "          위도          경도  \n",
      "0  37.025278  127.106667  \n",
      "1  37.026389  127.107500  \n",
      "2  37.373333  126.945000  \n",
      "3  36.332222  127.398611  \n",
      "4  36.331667  127.398889  \n"
     ]
    }
   ],
   "source": [
    "# DMS를 소수점 좌표로 변환하는 함수\n",
    "def dms_to_dd(degrees, minutes, seconds):\n",
    "    return degrees + minutes / 60 + seconds / 3600\n",
    "\n",
    "# 위도 변환 (LAT_PROVIN, LAT_MIN, LAT_SEC를 사용)\n",
    "df['위도'] = df.apply(lambda row: dms_to_dd(\n",
    "    float(row['LAT_PROVIN']), \n",
    "    float(row['LAT_MIN']), \n",
    "    float(row['LAT_SEC'])\n",
    "), axis=1)\n",
    "\n",
    "# 경도 변환 (LOT_PROVIN, LOT_MIN, LOT_SEC를 사용)\n",
    "df['경도'] = df.apply(lambda row: dms_to_dd(\n",
    "    float(row['LOT_PROVIN']), \n",
    "    float(row['LOT_MIN']), \n",
    "    float(row['LOT_SEC'])\n",
    "), axis=1)\n",
    "\n",
    "# 주소 컬럼 설정 (도로명 주소 사용)\n",
    "df['주소'] = df['FCLT_ADDR_RONA']\n",
    "# 장소 컬럼 설정\n",
    "df['시설명'] = df['FCLT_NM']\n",
    "\n",
    "# 필요한 컬럼만 선택\n",
    "df_result = df[['시설명','주소', '위도', '경도']]\n",
    "\n",
    "print(df_result.head())"
   ]
  },
  {
   "cell_type": "markdown",
   "id": "34d79fa0-150f-4d08-ba45-cba8a80a2aa2",
   "metadata": {},
   "source": [
    "# 카카오맵 API"
   ]
  },
  {
   "cell_type": "code",
   "execution_count": 23,
   "id": "66e723f4-0725-4247-87a2-d68d8d423230",
   "metadata": {},
   "outputs": [],
   "source": [
    "import requests\n",
    "# .env 파일 로드\n",
    "load_dotenv()\n",
    "kakaoapikey = os.getenv(\"REST_API_KEY\")\n",
    "#print(f\"'{kakaoapikey}'\")\n",
    "def get_coordinates(query):\n",
    "    \"\"\"\n",
    "    카카오맵 API를 이용해 검색 질의어(query)의 경도와 위도를 반환하는 함수.\n",
    "    \n",
    "    Args:\n",
    "        query (str): 검색할 장소 또는 주소.\n",
    "\n",
    "    Returns:\n",
    "        tuple: (longitude, latitude) - 경도(x), 위도(y)\n",
    "    \"\"\"\n",
    "    # 카카오맵 API 엔드포인트\n",
    "    url = \"https://dapi.kakao.com/v2/local/search/address.json\"\n",
    "    \n",
    "    # 요청 헤더\n",
    "    headers = {\n",
    "        \"Authorization\": f\"KakaoAK {kakaoapikey}\"\n",
    "    }\n",
    "    \n",
    "    # 요청 파라미터\n",
    "    params = {\n",
    "        \"query\": query,\n",
    "        \"size\": 1  # 결과를 하나만 가져오도록 설정\n",
    "    }\n",
    "    \n",
    "    # API 요청\n",
    "    response = requests.get(url, headers=headers, params=params)\n",
    "    \n",
    "    # 응답 확인\n",
    "    if response.status_code == 200:\n",
    "        data = response.json()  # JSON 응답 파싱\n",
    "        documents = data.get(\"documents\", [])\n",
    "        if documents:\n",
    "            # 첫 번째 검색 결과의 경도(x)와 위도(y) 반환\n",
    "            x = documents[0].get(\"x\")\n",
    "            y = documents[0].get(\"y\")\n",
    "            return (x, y)\n",
    "        else:\n",
    "            print(\"검색 결과가 없습니다.\")\n",
    "            return None\n",
    "    else:\n",
    "        # 에러 메시지 출력\n",
    "        print(f\"API 요청 실패: {response.status_code}, {response.text}\")\n",
    "        return None\n"
   ]
  },
  {
   "cell_type": "code",
   "execution_count": 24,
   "id": "87cd46db-b5f3-4ce7-93e8-c9b38d2c003c",
   "metadata": {},
   "outputs": [],
   "source": [
    "from math import radians, sin, cos, sqrt, atan2\n",
    "# Haversine 공식을 사용하여 거리 계산 함수 정의\n",
    "def haversine_distance(lat1, lon1, lat2, lon2):\n",
    "    \"\"\"\n",
    "    위도와 경도를 받아 두 지점 사이의 거리를 킬로미터 단위로 계산하는 함수\n",
    "    \"\"\"\n",
    "    # 위도와 경도를 라디안으로 변환\n",
    "    lat1_rad, lon1_rad = radians(lat1), radians(lon1)\n",
    "    lat2_rad, lon2_rad = radians(lat2), radians(lon2)\n",
    "\n",
    "    # 위도와 경도의 차이 계산\n",
    "    dlat = lat2_rad - lat1_rad\n",
    "    dlon = lon2_rad - lon1_rad\n",
    "\n",
    "    # Haversine 공식 적용\n",
    "    a = sin(dlat / 2)**2 + cos(lat1_rad) * cos(lat2_rad) * sin(dlon / 2)**2\n",
    "    c = 2 * atan2(sqrt(a), sqrt(1 - a))\n",
    "    R = 6371  # 지구 반지름 (킬로미터 단위)\n",
    "    distance = R * c\n",
    "    return distance"
   ]
  },
  {
   "cell_type": "code",
   "execution_count": 26,
   "id": "fb8f067a-4197-4912-85fc-8d0386973641",
   "metadata": {},
   "outputs": [
    {
     "name": "stdin",
     "output_type": "stream",
     "text": [
      "현재 주소를 입력하세요:  서울 중구 세종대로 110\n"
     ]
    },
    {
     "name": "stdout",
     "output_type": "stream",
     "text": [
      "경도(x): 126.977829174031, 위도(y): 37.5663174209601\n",
      "\n",
      "가장 가까운 대피소 정보 (거리순):\n",
      "\n",
      "[20384]\n",
      "시설명: 서울특별시청 지하1~4층\n",
      "주소: 서울특별시 중구 세종대로 110 (태평로1가, 서울시청)\n",
      "현재 위치로부터의 거리: 0.02 km\n",
      "지도 링크: https://map.kakao.com/link/search/서울특별시중구세종대로110(태평로1가,서울시청)\n",
      "\n",
      "[20382]\n",
      "시설명: 1호선시청역지하철승강장\n",
      "주소: 서울특별시 중구 세종대로 지하 101 (정동, 시청역 1호선)\n",
      "현재 위치로부터의 거리: 0.12 km\n",
      "지도 링크: https://map.kakao.com/link/search/서울특별시중구세종대로지하101(정동,시청역1호선)\n",
      "\n",
      "[20119]\n",
      "시설명: 시청광장지하쇼핑센터\n",
      "주소: 서울특별시 중구 을지로 지하 12 (을지로1가, 시청광장지하쇼핑센터)\n",
      "현재 위치로부터의 거리: 0.13 km\n",
      "지도 링크: https://map.kakao.com/link/search/서울특별시중구을지로지하12(을지로1가,시청광장지하쇼핑센터)\n"
     ]
    }
   ],
   "source": [
    "# 사용자로부터 주소 입력 및 좌표 얻기\n",
    "query = input(\"현재 주소를 입력하세요: \")  # 검색할 주소 또는 장소\n",
    "coordinates = get_coordinates(query)\n",
    "if coordinates:\n",
    "    user_lon = coordinates[0]\n",
    "    user_lat = coordinates[1]\n",
    "    print(f\"경도(x): {user_lon}, 위도(y): {user_lat}\")\n",
    "\n",
    "    user_lon = float(user_lon)\n",
    "    user_lat = float(user_lat)\n",
    "    \n",
    "    # 거리 계산 및 가까운 대피소 찾기\n",
    "    def calculate_distance(row):\n",
    "        try:\n",
    "            shelter_lat = float(row['위도'])\n",
    "            shelter_lon = float(row['경도'])\n",
    "            return haversine_distance(user_lat, user_lon, shelter_lat, shelter_lon)\n",
    "        except (ValueError, TypeError):\n",
    "            return None  # 거리 계산이 불가능한 경우 None 반환\n",
    "            \n",
    "    # 새로운 열 추가 및 필터링 조건 적용\n",
    "    df_result['거리'] = df_result.apply(calculate_distance, axis=1)\n",
    "    df_result = df_result[df_result['거리'].notnull()]\n",
    "\n",
    "    # 거리순으로 정렬하여 상위 3개의 대피소 선택\n",
    "    df_sorted = df_result.sort_values(by='거리')\n",
    "    df_top3 = df_sorted.head(3)\n",
    "\n",
    "    # 결과 출력\n",
    "    print(\"\\n가장 가까운 대피소 정보 (거리순):\")\n",
    "    for idx, row in df_top3.iterrows():\n",
    "        print(f\"\\n[{idx+1}]\")\n",
    "        print(f\"시설명: {row['시설명']}\")\n",
    "        print(f\"주소: {row['주소']}\")\n",
    "        print(f\"현재 위치로부터의 거리: {row['거리']:.2f} km\")\n",
    "\n",
    "        # Kakao Map 링크 생성\n",
    "        shelter_lat = row['위도']\n",
    "        shelter_lon = row['경도']\n",
    "        shelter_add = row['주소'].replace(' ', '')\n",
    "        kakao_map_link = f\"https://map.kakao.com/link/search/{shelter_add}\"\n",
    "        \n",
    "        print(f\"지도 링크: {kakao_map_link}\")\n",
    "else:\n",
    "    print(\"좌표를 가져올 수 없습니다.\")\n"
   ]
  },
  {
   "cell_type": "code",
   "execution_count": null,
   "id": "1ea82598-d1f7-4e71-9f50-e5ca7a89b9e7",
   "metadata": {},
   "outputs": [],
   "source": []
  },
  {
   "cell_type": "code",
   "execution_count": null,
   "id": "e218a0d3-0a53-4e6b-8e16-071e41713705",
   "metadata": {},
   "outputs": [],
   "source": []
  },
  {
   "cell_type": "code",
   "execution_count": null,
   "id": "ad2a8e4f-4599-438e-b835-995503e82189",
   "metadata": {},
   "outputs": [],
   "source": []
  },
  {
   "cell_type": "code",
   "execution_count": null,
   "id": "03e5b5b8-6fc5-4198-a5af-97e92f3ce8d3",
   "metadata": {},
   "outputs": [],
   "source": []
  },
  {
   "cell_type": "code",
   "execution_count": null,
   "id": "075bf533-806d-4f86-8f37-8aaed7bd37c4",
   "metadata": {},
   "outputs": [],
   "source": []
  },
  {
   "cell_type": "code",
   "execution_count": null,
   "id": "1ea0d004-b69c-4bfd-943e-8d6ca8e4ae94",
   "metadata": {},
   "outputs": [],
   "source": []
  }
 ],
 "metadata": {
  "kernelspec": {
   "display_name": "AI_study",
   "language": "python",
   "name": "ai"
  },
  "language_info": {
   "codemirror_mode": {
    "name": "ipython",
    "version": 3
   },
   "file_extension": ".py",
   "mimetype": "text/x-python",
   "name": "python",
   "nbconvert_exporter": "python",
   "pygments_lexer": "ipython3",
   "version": "3.9.20"
  }
 },
 "nbformat": 4,
 "nbformat_minor": 5
}
